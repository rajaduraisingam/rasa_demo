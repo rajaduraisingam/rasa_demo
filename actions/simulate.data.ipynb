{
 "cells": [
  {
   "cell_type": "code",
   "execution_count": 30,
   "metadata": {},
   "outputs": [
    {
     "name": "stdout",
     "output_type": "stream",
     "text": [
      "4000004528130671\n"
     ]
    }
   ],
   "source": [
    "# generate random credit card numbers and associated balance (100 values)\n",
    "\n",
    "import random\n",
    "first_6=400000 # IIN For Banking Industry(6 digits)\n",
    "def luhn():\n",
    "    global first_6  \n",
    "    card_no = [int(i) for i in str(first_6)]  # To find the checksum digit on\n",
    "    card_num = [int(i) for i in str(first_6)]  # Actual account number\n",
    "    seventh_15 = random.sample(range(9), 9)  # Acc no (9 digits)\n",
    "    for i in seventh_15:\n",
    "        card_no.append(i)\n",
    "        card_num.append(i)\n",
    "    for t in range(0, 15, 2):  # odd position digits\n",
    "        card_no[t] = card_no[t] * 2\n",
    "    for i in range(len(card_no)):\n",
    "        if card_no[i] > 9:  # deduct 9 from numbers greater than 9\n",
    "            card_no[i] -= 9\n",
    "    s = sum(card_no)\n",
    "    mod = s % 10\n",
    "    check_sum = 0 if mod == 0 else (10 - mod)\n",
    "    card_num.append(check_sum)\n",
    "    card_num = [str(i) for i in card_num]\n",
    "    return ''.join(card_num)\n",
    "\n",
    "\n",
    "print(luhn())"
   ]
  },
  {
   "cell_type": "code",
   "execution_count": 31,
   "metadata": {},
   "outputs": [],
   "source": [
    "numbers = []\n",
    "for i in range(100):\n",
    "    n = luhn()\n",
    "    numbers.append(n)"
   ]
  },
  {
   "cell_type": "code",
   "execution_count": 32,
   "metadata": {},
   "outputs": [],
   "source": [
    "import random\n",
    "balance = []\n",
    "for i in range(0,100):\n",
    "    n = random.randint(0,10000)\n",
    "    balance.append(n)"
   ]
  },
  {
   "cell_type": "code",
   "execution_count": 47,
   "metadata": {},
   "outputs": [],
   "source": [
    "import pandas as pd\n",
    "df = pd.DataFrame()\n",
    "df['credit_card_number'] = numbers\n",
    "df['balance'] = balance"
   ]
  },
  {
   "cell_type": "code",
   "execution_count": 48,
   "metadata": {},
   "outputs": [
    {
     "data": {
      "text/html": [
       "<div>\n",
       "<style scoped>\n",
       "    .dataframe tbody tr th:only-of-type {\n",
       "        vertical-align: middle;\n",
       "    }\n",
       "\n",
       "    .dataframe tbody tr th {\n",
       "        vertical-align: top;\n",
       "    }\n",
       "\n",
       "    .dataframe thead th {\n",
       "        text-align: right;\n",
       "    }\n",
       "</style>\n",
       "<table border=\"1\" class=\"dataframe\">\n",
       "  <thead>\n",
       "    <tr style=\"text-align: right;\">\n",
       "      <th></th>\n",
       "      <th>credit_card_number</th>\n",
       "      <th>balance</th>\n",
       "    </tr>\n",
       "  </thead>\n",
       "  <tbody>\n",
       "    <tr>\n",
       "      <th>0</th>\n",
       "      <td>4000004521370688</td>\n",
       "      <td>3464</td>\n",
       "    </tr>\n",
       "    <tr>\n",
       "      <th>1</th>\n",
       "      <td>4000002485703167</td>\n",
       "      <td>9304</td>\n",
       "    </tr>\n",
       "    <tr>\n",
       "      <th>2</th>\n",
       "      <td>4000008650314722</td>\n",
       "      <td>4867</td>\n",
       "    </tr>\n",
       "    <tr>\n",
       "      <th>3</th>\n",
       "      <td>4000001876340522</td>\n",
       "      <td>9610</td>\n",
       "    </tr>\n",
       "    <tr>\n",
       "      <th>4</th>\n",
       "      <td>4000005082137648</td>\n",
       "      <td>1456</td>\n",
       "    </tr>\n",
       "    <tr>\n",
       "      <th>...</th>\n",
       "      <td>...</td>\n",
       "      <td>...</td>\n",
       "    </tr>\n",
       "    <tr>\n",
       "      <th>95</th>\n",
       "      <td>4000007046853120</td>\n",
       "      <td>6990</td>\n",
       "    </tr>\n",
       "    <tr>\n",
       "      <th>96</th>\n",
       "      <td>4000003652017480</td>\n",
       "      <td>8783</td>\n",
       "    </tr>\n",
       "    <tr>\n",
       "      <th>97</th>\n",
       "      <td>4000008073451622</td>\n",
       "      <td>2126</td>\n",
       "    </tr>\n",
       "    <tr>\n",
       "      <th>98</th>\n",
       "      <td>4000003104586728</td>\n",
       "      <td>6802</td>\n",
       "    </tr>\n",
       "    <tr>\n",
       "      <th>99</th>\n",
       "      <td>4000003562087417</td>\n",
       "      <td>7623</td>\n",
       "    </tr>\n",
       "  </tbody>\n",
       "</table>\n",
       "<p>100 rows × 2 columns</p>\n",
       "</div>"
      ],
      "text/plain": [
       "   credit_card_number  balance\n",
       "0    4000004521370688     3464\n",
       "1    4000002485703167     9304\n",
       "2    4000008650314722     4867\n",
       "3    4000001876340522     9610\n",
       "4    4000005082137648     1456\n",
       "..                ...      ...\n",
       "95   4000007046853120     6990\n",
       "96   4000003652017480     8783\n",
       "97   4000008073451622     2126\n",
       "98   4000003104586728     6802\n",
       "99   4000003562087417     7623\n",
       "\n",
       "[100 rows x 2 columns]"
      ]
     },
     "execution_count": 48,
     "metadata": {},
     "output_type": "execute_result"
    }
   ],
   "source": [
    "df"
   ]
  },
  {
   "cell_type": "code",
   "execution_count": 49,
   "metadata": {},
   "outputs": [],
   "source": [
    "import json \n",
    "result = df.to_json(orient=\"split\")\n",
    "parsed = json.loads(result)\n",
    "with open('data.json', 'w') as outfile:\n",
    "    json.dump(parsed, outfile)"
   ]
  }
 ],
 "metadata": {
  "kernelspec": {
   "display_name": "Python 3",
   "language": "python",
   "name": "python3"
  },
  "language_info": {
   "codemirror_mode": {
    "name": "ipython",
    "version": 3
   },
   "file_extension": ".py",
   "mimetype": "text/x-python",
   "name": "python",
   "nbconvert_exporter": "python",
   "pygments_lexer": "ipython3",
   "version": "3.8.3"
  }
 },
 "nbformat": 4,
 "nbformat_minor": 4
}
